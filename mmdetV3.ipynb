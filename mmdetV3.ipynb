{
 "cells": [
  {
   "cell_type": "code",
   "execution_count": 6,
   "metadata": {},
   "outputs": [
    {
     "name": "stdout",
     "output_type": "stream",
     "text": [
      "mmcv version:2.1.0\n",
      "mmdet version:3.2.0\n"
     ]
    }
   ],
   "source": [
    "import mmcv\n",
    "import mmdet\n",
    "print('mmcv version:' + mmcv.__version__)\n",
    "print('mmdet version:' + mmdet.__version__)"
   ]
  },
  {
   "cell_type": "code",
   "execution_count": 15,
   "metadata": {},
   "outputs": [
    {
     "name": "stdout",
     "output_type": "stream",
     "text": [
      "/home/claurence/Desktop/detectron2/mmdetection\n",
      "Obtaining file:///home/claurence/Desktop/detectron2/mmdetection\n",
      "  Preparing metadata (setup.py) ... \u001b[?25ldone\n",
      "\u001b[?25hRequirement already satisfied: matplotlib in /home/claurence/anaconda3/envs/mmdetV3/lib/python3.11/site-packages (from mmdet==3.2.0) (3.8.1)\n",
      "Requirement already satisfied: numpy in /home/claurence/anaconda3/envs/mmdetV3/lib/python3.11/site-packages (from mmdet==3.2.0) (1.26.0)\n",
      "Requirement already satisfied: pycocotools in /home/claurence/anaconda3/envs/mmdetV3/lib/python3.11/site-packages (from mmdet==3.2.0) (2.0.7)\n",
      "Requirement already satisfied: scipy in /home/claurence/anaconda3/envs/mmdetV3/lib/python3.11/site-packages (from mmdet==3.2.0) (1.11.3)\n",
      "Requirement already satisfied: shapely in /home/claurence/anaconda3/envs/mmdetV3/lib/python3.11/site-packages (from mmdet==3.2.0) (2.0.2)\n",
      "Requirement already satisfied: six in /home/claurence/anaconda3/envs/mmdetV3/lib/python3.11/site-packages (from mmdet==3.2.0) (1.16.0)\n",
      "Requirement already satisfied: terminaltables in /home/claurence/anaconda3/envs/mmdetV3/lib/python3.11/site-packages (from mmdet==3.2.0) (3.1.10)\n",
      "Requirement already satisfied: tqdm in /home/claurence/anaconda3/envs/mmdetV3/lib/python3.11/site-packages (from mmdet==3.2.0) (4.65.2)\n",
      "Requirement already satisfied: contourpy>=1.0.1 in /home/claurence/anaconda3/envs/mmdetV3/lib/python3.11/site-packages (from matplotlib->mmdet==3.2.0) (1.1.1)\n",
      "Requirement already satisfied: cycler>=0.10 in /home/claurence/anaconda3/envs/mmdetV3/lib/python3.11/site-packages (from matplotlib->mmdet==3.2.0) (0.12.1)\n",
      "Requirement already satisfied: fonttools>=4.22.0 in /home/claurence/anaconda3/envs/mmdetV3/lib/python3.11/site-packages (from matplotlib->mmdet==3.2.0) (4.43.1)\n",
      "Requirement already satisfied: kiwisolver>=1.3.1 in /home/claurence/anaconda3/envs/mmdetV3/lib/python3.11/site-packages (from matplotlib->mmdet==3.2.0) (1.4.5)\n",
      "Requirement already satisfied: packaging>=20.0 in /home/claurence/anaconda3/envs/mmdetV3/lib/python3.11/site-packages (from matplotlib->mmdet==3.2.0) (23.2)\n",
      "Requirement already satisfied: pillow>=8 in /home/claurence/anaconda3/envs/mmdetV3/lib/python3.11/site-packages (from matplotlib->mmdet==3.2.0) (10.0.1)\n",
      "Requirement already satisfied: pyparsing>=2.3.1 in /home/claurence/anaconda3/envs/mmdetV3/lib/python3.11/site-packages (from matplotlib->mmdet==3.2.0) (3.1.1)\n",
      "Requirement already satisfied: python-dateutil>=2.7 in /home/claurence/anaconda3/envs/mmdetV3/lib/python3.11/site-packages (from matplotlib->mmdet==3.2.0) (2.8.2)\n",
      "Installing collected packages: mmdet\n",
      "  Attempting uninstall: mmdet\n",
      "    Found existing installation: mmdet 3.2.0\n",
      "    Uninstalling mmdet-3.2.0:\n",
      "      Successfully uninstalled mmdet-3.2.0\n",
      "  Running setup.py develop for mmdet\n",
      "Successfully installed mmdet-3.2.0\n",
      "Note: you may need to restart the kernel to use updated packages.\n"
     ]
    }
   ],
   "source": [
    "%cd ../mmdetection\n",
    "%pip install -e ."
   ]
  },
  {
   "cell_type": "code",
   "execution_count": 16,
   "metadata": {},
   "outputs": [
    {
     "name": "stdout",
     "output_type": "stream",
     "text": [
      "sys.platform: linux\n",
      "Python: 3.11.5 (main, Sep 11 2023, 13:54:46) [GCC 11.2.0]\n",
      "CUDA available: False\n",
      "numpy_random_seed: 2147483648\n",
      "GCC: gcc (Ubuntu 11.4.0-1ubuntu1~22.04) 11.4.0\n",
      "PyTorch: 2.1.0\n",
      "PyTorch compiling details: PyTorch built with:\n",
      "  - GCC 9.3\n",
      "  - C++ Version: 201703\n",
      "  - Intel(R) oneAPI Math Kernel Library Version 2023.1-Product Build 20230303 for Intel(R) 64 architecture applications\n",
      "  - Intel(R) MKL-DNN v3.1.1 (Git Hash 64f6bcbcbab628e96f33a62c3e975f8535a7bde4)\n",
      "  - OpenMP 201511 (a.k.a. OpenMP 4.5)\n",
      "  - LAPACK is enabled (usually provided by MKL)\n",
      "  - NNPACK is enabled\n",
      "  - CPU capability usage: AVX2\n",
      "  - Build settings: BLAS_INFO=mkl, BUILD_TYPE=Release, CXX_COMPILER=/opt/rh/devtoolset-9/root/usr/bin/c++, CXX_FLAGS= -D_GLIBCXX_USE_CXX11_ABI=0 -fabi-version=11 -fvisibility-inlines-hidden -DUSE_PTHREADPOOL -DNDEBUG -DUSE_KINETO -DLIBKINETO_NOCUPTI -DLIBKINETO_NOROCTRACER -DUSE_FBGEMM -DUSE_QNNPACK -DUSE_PYTORCH_QNNPACK -DUSE_XNNPACK -DSYMBOLICATE_MOBILE_DEBUG_HANDLE -O2 -fPIC -Wall -Wextra -Werror=return-type -Werror=non-virtual-dtor -Werror=bool-operation -Wnarrowing -Wno-missing-field-initializers -Wno-type-limits -Wno-array-bounds -Wno-unknown-pragmas -Wno-unused-parameter -Wno-unused-function -Wno-unused-result -Wno-strict-overflow -Wno-strict-aliasing -Wno-stringop-overflow -Wno-psabi -Wno-error=pedantic -Wno-error=old-style-cast -Wno-invalid-partial-specialization -Wno-unused-private-field -Wno-aligned-allocation-unavailable -Wno-missing-braces -fdiagnostics-color=always -faligned-new -Wno-unused-but-set-variable -Wno-maybe-uninitialized -fno-math-errno -fno-trapping-math -Werror=format -Werror=cast-function-type -Wno-stringop-overflow, LAPACK_INFO=mkl, PERF_WITH_AVX=1, PERF_WITH_AVX2=1, PERF_WITH_AVX512=1, TORCH_DISABLE_GPU_ASSERTS=ON, TORCH_VERSION=2.1.0, USE_CUDA=0, USE_CUDNN=OFF, USE_EXCEPTION_PTR=1, USE_GFLAGS=OFF, USE_GLOG=OFF, USE_MKL=ON, USE_MKLDNN=ON, USE_MPI=OFF, USE_NCCL=OFF, USE_NNPACK=ON, USE_OPENMP=ON, USE_ROCM=OFF, \n",
      "\n",
      "TorchVision: 0.16.0\n",
      "OpenCV: 4.8.1\n",
      "MMEngine: 0.9.0\n",
      "MMDetection: 3.2.0+fe3f809\n"
     ]
    }
   ],
   "source": [
    "from mmengine.utils import get_git_hash\n",
    "from mmengine.utils.dl_utils import collect_env as collect_base_env\n",
    "\n",
    "import mmdet\n",
    "\n",
    "def collect_env():\n",
    "    \"\"\"Collect the information of the running environments.\"\"\"\n",
    "    env_info = collect_base_env()\n",
    "    env_info['MMDetection'] = f'{mmdet.__version__}+{get_git_hash()[:7]}'\n",
    "    return env_info\n",
    "\n",
    "\n",
    "if __name__ == '__main__':\n",
    "    for name, val in collect_env().items():\n",
    "        print(f'{name}: {val}')"
   ]
  },
  {
   "cell_type": "code",
   "execution_count": 8,
   "metadata": {},
   "outputs": [
    {
     "name": "stdout",
     "output_type": "stream",
     "text": [
      "Loads checkpoint by local backend from path: ./latest.pth\n"
     ]
    }
   ],
   "source": [
    "from mmdet.apis import init_detector, inference_detector\n",
    "\n",
    "config_file = './configV3.py'  # Replace with the actual path to your config file\n",
    "checkpoint_file = './latest.pth'  # Replace with the actual path to your checkpoint file\n",
    "model = init_detector(config_file, checkpoint_file, device='cpu')  # You can use 'cuda:0' for GPU or 'cpu' for CPU\n",
    "\n",
    "\n"
   ]
  },
  {
   "cell_type": "code",
   "execution_count": 11,
   "metadata": {},
   "outputs": [],
   "source": [
    "result = inference_detector(model, './test.png')  # Replace with the path to your input image\n"
   ]
  },
  {
   "cell_type": "code",
   "execution_count": 12,
   "metadata": {},
   "outputs": [
    {
     "name": "stdout",
     "output_type": "stream",
     "text": [
      "<DetDataSample(\n",
      "\n",
      "    META INFORMATION\n",
      "    img_path: './test.png'\n",
      "    batch_input_shape: (1312, 800)\n",
      "    pad_shape: (1312, 800)\n",
      "    ori_shape: (1482, 920)\n",
      "    img_shape: (1289, 800)\n",
      "    scale_factor: (0.8695652173913043, 0.8697705802968961)\n",
      "    img_id: 0\n",
      "\n",
      "    DATA FIELDS\n",
      "    ignored_instances: <InstanceData(\n",
      "        \n",
      "            META INFORMATION\n",
      "        \n",
      "            DATA FIELDS\n",
      "        ) at 0x7f92a1f6a210>\n",
      "    pred_instances: <InstanceData(\n",
      "        \n",
      "            META INFORMATION\n",
      "        \n",
      "            DATA FIELDS\n",
      "            masks: tensor([], size=(0, 1482, 920), dtype=torch.bool)\n",
      "            scores: tensor([])\n",
      "            bboxes: tensor([], size=(0, 4))\n",
      "            labels: tensor([], dtype=torch.int64)\n",
      "        ) at 0x7f9258bcb7d0>\n",
      "    gt_instances: <InstanceData(\n",
      "        \n",
      "            META INFORMATION\n",
      "        \n",
      "            DATA FIELDS\n",
      "        ) at 0x7f92580f49d0>\n",
      ") at 0x7f9258bb98d0>\n"
     ]
    }
   ],
   "source": [
    "print(result)"
   ]
  },
  {
   "cell_type": "code",
   "execution_count": 13,
   "metadata": {},
   "outputs": [
    {
     "data": {
      "text/plain": [
       "mmdet.models.detectors.mask_rcnn.MaskRCNN"
      ]
     },
     "execution_count": 13,
     "metadata": {},
     "output_type": "execute_result"
    }
   ],
   "source": [
    "type(model)"
   ]
  }
 ],
 "metadata": {
  "kernelspec": {
   "display_name": "openmmlab",
   "language": "python",
   "name": "python3"
  },
  "language_info": {
   "codemirror_mode": {
    "name": "ipython",
    "version": 3
   },
   "file_extension": ".py",
   "mimetype": "text/x-python",
   "name": "python",
   "nbconvert_exporter": "python",
   "pygments_lexer": "ipython3",
   "version": "3.11.5"
  }
 },
 "nbformat": 4,
 "nbformat_minor": 2
}
